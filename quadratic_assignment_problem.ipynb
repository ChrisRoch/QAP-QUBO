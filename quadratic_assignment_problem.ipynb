{
 "cells": [
  {
   "cell_type": "markdown",
   "metadata": {},
   "source": [
    "# Quadratic Assignment Problem"
   ]
  },
  {
   "cell_type": "markdown",
   "metadata": {},
   "source": [
    "#### Problem Description\n",
    "\n",
    "The goal of the Quadratic Assignment Problem (QAP) is to assign 𝑁 facilities to 𝑁 locations so that assignment costs are minimized.\n",
    "The assignment costs are defined by a function that multiplies and summarizes the flow/demand (f) and distance (d) for each assignment"
   ]
  },
  {
   "cell_type": "code",
   "execution_count": null,
   "metadata": {},
   "outputs": [],
   "source": [
    "from dwave_qbsolv import QBSolv\n",
    "from dwave.system import FixedEmbeddingComposite, DWaveSampler\n",
    "import dwave.inspector\n",
    "from dimod import qubo_to_ising\n",
    "from minorminer import minorminer\n",
    "import networkx as nx\n",
    "from FileParser import FileParser\n",
    "import string\n",
    "import numpy as np"
   ]
  },
  {
   "cell_type": "markdown",
   "metadata": {},
   "source": [
    "#### Setup Problem"
   ]
  },
  {
   "cell_type": "code",
   "execution_count": null,
   "metadata": {},
   "outputs": [],
   "source": [
    "path_to_file = \"./\"\n",
    "file_name = \"test_instance_5.dat\"\n",
    "file_parser = FileParser(path_to_file, file_name)\n",
    "flows, distances, num_nodes = file_parser.parse_file()\n",
    "\n",
    "print(\"Distances:\\n\", distances)\n",
    "print(\"Flows: \\n\", flows)\n",
    "print(\"Number of nodes:\", num_nodes)"
   ]
  },
  {
   "cell_type": "code",
   "execution_count": null,
   "metadata": {},
   "outputs": [],
   "source": [
    "# Facility to location mapping. Used for decoding quantum annealing response\n",
    "facility_to_location = []\n",
    "for i in range(num_nodes):\n",
    "    for j in range(num_nodes):\n",
    "        facility_to_location.append(string.ascii_uppercase[i] + str(j))\n",
    "print(\"Facility to location:\", facility_to_location)"
   ]
  },
  {
   "cell_type": "markdown",
   "metadata": {},
   "source": [
    "#### Build QUBO"
   ]
  },
  {
   "cell_type": "code",
   "execution_count": null,
   "metadata": {},
   "outputs": [],
   "source": [
    "length_of_QUBO = num_nodes**2\n",
    "prefactor = distances.max() * flows.max() + 1\n",
    "QUBO = {}"
   ]
  },
  {
   "cell_type": "code",
   "execution_count": null,
   "metadata": {},
   "outputs": [],
   "source": [
    "# Fill upper triangular QUBO Matrix\n",
    "for v in range(0, length_of_QUBO):\n",
    "    for j in range(v, length_of_QUBO):\n",
    "        QUBO[(v, j)] = 0.0"
   ]
  },
  {
   "cell_type": "code",
   "execution_count": null,
   "metadata": {},
   "outputs": [],
   "source": [
    "# Optimization Function (add distances and flows)\n",
    "# Add distances and flows\n",
    "dist_x = 0\n",
    "dist_y = 0\n",
    "for v in range(0, length_of_QUBO):\n",
    "    for j in range(v, length_of_QUBO):\n",
    "        if j % num_nodes == 0 and v != j:\n",
    "            dist_y += 1\n",
    "        if v % num_nodes == 0 and j == v and v != 0:\n",
    "            dist_x += 1\n",
    "        QUBO[(v, j)] = QUBO[(v, j)] + distances[dist_x][dist_y] * flows[v % num_nodes][j % num_nodes]\n",
    "\n",
    "        if j == length_of_QUBO-1:\n",
    "            dist_y = dist_x\n",
    "            if v % num_nodes == num_nodes-1:\n",
    "                dist_y += 1"
   ]
  },
  {
   "cell_type": "code",
   "execution_count": null,
   "metadata": {},
   "outputs": [],
   "source": [
    "# Constraint that every location has exactly one facility assigned\n",
    "for v in range(0, length_of_QUBO):\n",
    "    for j in range(v, length_of_QUBO):\n",
    "        if v == j:\n",
    "            QUBO[(v, j)] = QUBO[(v, j)] + (-1.0) * prefactor\n",
    "        else:\n",
    "            if j % num_nodes == v % num_nodes:\n",
    "                QUBO[(v, j)] = QUBO[(v, j)] + 2.0 * prefactor"
   ]
  },
  {
   "cell_type": "code",
   "execution_count": null,
   "metadata": {},
   "outputs": [],
   "source": [
    "# Constraint that every facility has exactly one location assigned\n",
    "for v in range(0, length_of_QUBO):\n",
    "    for j in range(v, length_of_QUBO):\n",
    "        if j % num_nodes == 0 and v != j:\n",
    "            break\n",
    "        if v == j:\n",
    "            QUBO[(v, j)] = QUBO[(v, j)] + (-1.0) * prefactor\n",
    "        else:\n",
    "            QUBO[(v, j)] = QUBO[(v, j)] + 2.0 * prefactor\n",
    "\n",
    "qubo = {k:v for k,v in QUBO.items() if v != 0.0 or k[0] == k[1]}            "
   ]
  },
  {
   "cell_type": "markdown",
   "metadata": {},
   "source": [
    "#### Set Execution Parameters"
   ]
  },
  {
   "cell_type": "code",
   "execution_count": null,
   "metadata": {},
   "outputs": [],
   "source": [
    "# QBSolv or D-Wave Parameter\n",
    "use_d_wave = True\n",
    "\n",
    "if not use_d_wave:\n",
    "    # QbSolv Parameter\n",
    "    num_repeats = 50\n",
    "    solver = 'tabu'\n",
    "    \n",
    "else:\n",
    "    # D-Wave Parameter\n",
    "    solver_limit = num_nodes**2\n",
    "    solver = 'solver'\n",
    "    token = 'token'\n",
    "    endpoint = 'url'\n",
    "    num_reads = 1000\n",
    "    chain_strength = (max(qubo.values()) + 1)"
   ]
  },
  {
   "cell_type": "markdown",
   "metadata": {},
   "source": [
    "#### Run Problem"
   ]
  },
  {
   "cell_type": "code",
   "execution_count": null,
   "metadata": {},
   "outputs": [],
   "source": [
    "# Call QBSolv or D-Wave\n",
    "if not use_d_wave:\n",
    "    answer = QBSolv().sample_qubo(qubo, num_repeats=num_repeats, solver=solver)\n",
    "else:\n",
    "    G = nx.complete_graph(solver_limit)\n",
    "    dw_solver = DWaveSampler(solver=solver, token=token, endpoint=endpoint)\n",
    "    embedding = minorminer.find_embedding(G.edges, dw_solver.edgelist)\n",
    "    # print(\"Embedding\", embedding)\n",
    "    \n",
    "    h, J, offset = qubo_to_ising(qubo)\n",
    "    answer = FixedEmbeddingComposite(dw_solver, embedding).sample_ising(h, J, num_reads=num_reads, chain_strength=chain_strength)\n",
    "    "
   ]
  },
  {
   "cell_type": "markdown",
   "metadata": {},
   "source": [
    "#### Decode Answer"
   ]
  },
  {
   "cell_type": "code",
   "execution_count": null,
   "metadata": {},
   "outputs": [],
   "source": [
    "sample_information = []\n",
    "graph_labels = {}\n",
    "for sample, energy, occ in answer.record:\n",
    "    sample_information.append([sample.tolist(), energy, occ])\n",
    "sample_information.sort(key=lambda x: x[:][1])\n",
    "\n",
    "# Decode answer\n",
    "for i, sample in enumerate(sample_information):\n",
    "    print(sample)\n",
    "    for j in range(len(sample[0])):\n",
    "        if sample[0][j] == 1:\n",
    "            print(facility_to_location[j])\n",
    "            if i == 0:\n",
    "                graph_labels.update({int(j%num_nodes):facility_to_location[j]})\n",
    "# dwave.inspector.show(answer)"
   ]
  },
  {
   "cell_type": "code",
   "execution_count": null,
   "metadata": {},
   "outputs": [],
   "source": []
  }
 ],
 "metadata": {
  "kernelspec": {
   "display_name": "Python 3",
   "language": "python",
   "name": "python3"
  },
  "language_info": {
   "codemirror_mode": {
    "name": "ipython",
    "version": 3
   },
   "file_extension": ".py",
   "mimetype": "text/x-python",
   "name": "python",
   "nbconvert_exporter": "python",
   "pygments_lexer": "ipython3",
   "version": "3.5.5"
  }
 },
 "nbformat": 4,
 "nbformat_minor": 4
}
