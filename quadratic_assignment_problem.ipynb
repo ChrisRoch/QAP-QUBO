{
 "cells": [
  {
   "cell_type": "markdown",
   "metadata": {},
   "source": [
    "# Quadratic Assignment Problem"
   ]
  },
  {
   "cell_type": "markdown",
   "metadata": {},
   "source": [
    "#### Problem Description\n",
    "\n",
    "The goal of the Quadratic Assignment Problem (QAP) is to assign 𝑁 facilities to 𝑁 locations so that assignment costs are minimized.\n",
    "The assignment costs are defined by a function that multiplies and summarizes the flow/demand (f) and distance (d) for each assignment"
   ]
  },
  {
   "cell_type": "code",
   "execution_count": 3,
   "metadata": {},
   "outputs": [],
   "source": [
    "from dwave_qbsolv import QBSolv\n",
    "from dwave.system import FixedEmbeddingComposite, DWaveSampler\n",
    "import dwave.inspector\n",
    "from dimod import qubo_to_ising\n",
    "from minorminer import minorminer\n",
    "import networkx as nx\n",
    "from FileParser import FileParser\n",
    "import string\n",
    "import numpy as np"
   ]
  },
  {
   "cell_type": "markdown",
   "metadata": {},
   "source": [
    "#### Setup Problem"
   ]
  },
  {
   "cell_type": "code",
   "execution_count": 4,
   "metadata": {},
   "outputs": [
    {
     "name": "stdout",
     "output_type": "stream",
     "text": [
      "Distances:\n",
      " [[ 0 32 68 97 75]\n",
      " [32  0 42 80 53]\n",
      " [68 42  0 45 15]\n",
      " [97 80 45  0 30]\n",
      " [75 53 15 30  0]]\n",
      "Flows: \n",
      " [[0 2 4 0 0]\n",
      " [2 0 3 1 0]\n",
      " [4 3 0 0 0]\n",
      " [0 1 0 0 1]\n",
      " [0 0 0 1 0]]\n",
      "Number of nodes: 5\n"
     ]
    }
   ],
   "source": [
    "path_to_file = \"./\"\n",
    "file_name = \"test_instance_5.dat\"\n",
    "file_parser = FileParser(path_to_file, file_name)\n",
    "flows, distances, num_nodes = file_parser.parse_file()\n",
    "\n",
    "print(\"Distances:\\n\", distances)\n",
    "print(\"Flows: \\n\", flows)\n",
    "print(\"Number of nodes:\", num_nodes)"
   ]
  },
  {
   "cell_type": "code",
   "execution_count": 8,
   "metadata": {},
   "outputs": [
    {
     "name": "stdout",
     "output_type": "stream",
     "text": [
      "Facility to location: ['A0', 'A1', 'A2', 'A3', 'A4', 'B0', 'B1', 'B2', 'B3', 'B4', 'C0', 'C1', 'C2', 'C3', 'C4', 'D0', 'D1', 'D2', 'D3', 'D4', 'E0', 'E1', 'E2', 'E3', 'E4']\n"
     ]
    }
   ],
   "source": [
    "# Facility to location mapping. Used for decoding quantum annealing response\n",
    "facility_to_location = []\n",
    "for i in range(num_nodes):\n",
    "    for j in range(num_nodes):\n",
    "        facility_to_location.append(string.ascii_uppercase[i] + str(j))\n",
    "print(\"Facility to location:\", facility_to_location)"
   ]
  },
  {
   "cell_type": "markdown",
   "metadata": {},
   "source": [
    "#### Build QUBO"
   ]
  },
  {
   "cell_type": "code",
   "execution_count": 9,
   "metadata": {},
   "outputs": [],
   "source": [
    "length_of_QUBO = num_nodes**2\n",
    "prefactor = distances.max() * flows.max() + 1\n",
    "QUBO = {}"
   ]
  },
  {
   "cell_type": "code",
   "execution_count": 10,
   "metadata": {},
   "outputs": [],
   "source": [
    "# Fill upper triangular QUBO Matrix\n",
    "for v in range(0, length_of_QUBO):\n",
    "    for j in range(v, length_of_QUBO):\n",
    "        QUBO[(v, j)] = 0.0"
   ]
  },
  {
   "cell_type": "code",
   "execution_count": 11,
   "metadata": {},
   "outputs": [],
   "source": [
    "# Optimization Function (add distances and flows)\n",
    "# Add distances\n",
    "dist_x = 0\n",
    "dist_y = 0\n",
    "for v in range(0, length_of_QUBO):\n",
    "    for j in range(v, length_of_QUBO):\n",
    "        if j % num_nodes == 0 and v != j:\n",
    "            dist_y += 1\n",
    "        if v % num_nodes == 0 and j == v and v != 0:\n",
    "            dist_x += 1\n",
    "        QUBO[(v, j)] = QUBO[(v, j)] + distances[dist_x][dist_y]\n",
    "\n",
    "        if j == length_of_QUBO-1:\n",
    "            dist_y = dist_x\n",
    "            if v % num_nodes == num_nodes-1:\n",
    "                dist_y += 1\n",
    "\n",
    "# Add flows\n",
    "for v in range(0, length_of_QUBO):\n",
    "    for j in range(v, length_of_QUBO):\n",
    "        QUBO[(v, j)] = QUBO[(v, j)] * flows[v % num_nodes][j % num_nodes]"
   ]
  },
  {
   "cell_type": "code",
   "execution_count": 12,
   "metadata": {},
   "outputs": [],
   "source": [
    "# Constraint that every location has exactly one facility assigned\n",
    "for v in range(0, length_of_QUBO):\n",
    "    for j in range(v, length_of_QUBO):\n",
    "        if v == j:\n",
    "            QUBO[(v, j)] = QUBO[(v, j)] + (-1.0) * prefactor\n",
    "        else:\n",
    "            if j % num_nodes == v % num_nodes:\n",
    "                QUBO[(v, j)] = QUBO[(v, j)] + 2.0 * prefactor"
   ]
  },
  {
   "cell_type": "code",
   "execution_count": 13,
   "metadata": {},
   "outputs": [],
   "source": [
    "# Constraint that every facility has exactly one location assigned\n",
    "for v in range(0, length_of_QUBO):\n",
    "    for j in range(v, length_of_QUBO):\n",
    "        if j % num_nodes == 0 and v != j:\n",
    "            break\n",
    "        if v == j:\n",
    "            QUBO[(v, j)] = QUBO[(v, j)] + (-1.0) * prefactor\n",
    "        else:\n",
    "            QUBO[(v, j)] = QUBO[(v, j)] + 2.0 * prefactor\n",
    "\n",
    "qubo = {k:v for k,v in QUBO.items() if v != 0.0 or k[0] == k[1]}            "
   ]
  },
  {
   "cell_type": "markdown",
   "metadata": {},
   "source": [
    "#### Set Execution Parameters"
   ]
  },
  {
   "cell_type": "code",
   "execution_count": 19,
   "metadata": {},
   "outputs": [],
   "source": [
    "# QBSolv or D-Wave Parameter\n",
    "use_d_wave = False\n",
    "\n",
    "if not use_d_wave:\n",
    "    # QbSolv Parameter\n",
    "    num_repeats = 50\n",
    "    seed = None\n",
    "    algorithm = None\n",
    "    verbosity = 0\n",
    "    timeout = 2592000\n",
    "    solver_limit = None\n",
    "    target = None\n",
    "    find_max = False\n",
    "    solver = 'tabu'\n",
    "    \n",
    "else:\n",
    "    # D-Wave Parameter\n",
    "    solver_limit = num_nodes**2\n",
    "    solver = 'solver'\n",
    "    token = \"token\"\n",
    "    endpoint = 'https://d-wave-cloud'\n",
    "    num_reads = 1000\n",
    "    chain_strength = (max(qubo.values()) + 1)\n",
    "    print(\"chain_strength:\", chain_strength)  "
   ]
  },
  {
   "cell_type": "markdown",
   "metadata": {},
   "source": [
    "#### Run Problem"
   ]
  },
  {
   "cell_type": "code",
   "execution_count": 20,
   "metadata": {},
   "outputs": [],
   "source": [
    "# Call QBSolv or D-Wave\n",
    "if not use_d_wave:\n",
    "    answer = QBSolv().sample_qubo(qubo, num_repeats=num_repeats, seed=seed, algorithm=algorithm, verbosity=verbosity,\n",
    "                                  timeout=timeout, solver_limit=solver_limit, solver=solver, target=target,\n",
    "                                  find_max=find_max)\n",
    "else:\n",
    "    G = nx.complete_graph(solver_limit)\n",
    "    dw_solver = DWaveSampler(solver=solver, token=token, endpoint=endpoint)\n",
    "    embedding = minorminer.find_embedding(G.edges, dw_solver.edgelist)\n",
    "    \n",
    "    h, J, offset = qubo_to_ising(qubo)\n",
    "    answer = FixedEmbeddingComposite(dw_solver, embedding).sample_ising(h, J, num_reads=num_reads, chain_strength=chain_strength)\n",
    "    dwave.inspector.show(answer)"
   ]
  },
  {
   "cell_type": "markdown",
   "metadata": {},
   "source": [
    "#### Decode Answer"
   ]
  },
  {
   "cell_type": "code",
   "execution_count": 21,
   "metadata": {},
   "outputs": [
    {
     "name": "stdout",
     "output_type": "stream",
     "text": [
      "[[0, 0, 0, 0, 1, 0, 0, 0, 1, 0, 0, 1, 0, 0, 0, 1, 0, 0, 0, 0, 0, 0, 1, 0, 0], -3561.0, 51]\n",
      "A4\n",
      "B3\n",
      "C1\n",
      "D0\n",
      "E2\n",
      "[[0, 0, 0, 0, 1, 0, 0, 0, 1, 0, 1, 0, 0, 0, 0, 0, 1, 0, 0, 0, 0, 0, 1, 0, 0], -3538.0, 1]\n",
      "A4\n",
      "B3\n",
      "C0\n",
      "D1\n",
      "E2\n",
      "[[0, 0, 0, 0, 1, 0, 0, 0, 1, 0, 0, 1, 0, 0, 0, 0, 0, 1, 0, 0, 1, 0, 0, 0, 0], -3531.0, 1]\n",
      "A4\n",
      "B3\n",
      "C1\n",
      "D2\n",
      "E0\n"
     ]
    }
   ],
   "source": [
    "sample_information = []\n",
    "graph_labels = {}\n",
    "for sample, energy, occ in answer.record:\n",
    "    sample_information.append([sample.tolist(), energy, occ])\n",
    "sample_information.sort(key=lambda x: x[:][1])\n",
    "\n",
    "# Decode answer\n",
    "for i, sample in enumerate(sample_information):\n",
    "    print(sample)\n",
    "    for j in range(len(sample[0])):\n",
    "        if sample[0][j] == 1:\n",
    "            print(facility_to_location[j])\n",
    "            if i == 0:\n",
    "                graph_labels.update({int(j%num_nodes):facility_to_location[j]})"
   ]
  },
  {
   "cell_type": "code",
   "execution_count": 18,
   "metadata": {},
   "outputs": [
    {
     "data": {
      "image/png": "[encoded data removed]",
      "text/plain": [
       "<Figure size 432x288 with 1 Axes>"
      ]
     },
     "metadata": {},
     "output_type": "display_data"
    }
   ],
   "source": [
    "G = nx.from_numpy_matrix(distances)\n",
    "pos= nx.spiral_layout(G) \n",
    "nx.draw(G, pos, labels=graph_labels)"
   ]
  },
  {
   "cell_type": "code",
   "execution_count": null,
   "metadata": {},
   "outputs": [],
   "source": []
  }
 ],
 "metadata": {
  "kernelspec": {
   "display_name": "Python 3",
   "language": "python",
   "name": "python3"
  },
  "language_info": {
   "codemirror_mode": {
    "name": "ipython",
    "version": 3
   },
   "file_extension": ".py",
   "mimetype": "text/x-python",
   "name": "python",
   "nbconvert_exporter": "python",
   "pygments_lexer": "ipython3",
   "version": "3.5.5"
  }
 },
 "nbformat": 4,
 "nbformat_minor": 4
}
